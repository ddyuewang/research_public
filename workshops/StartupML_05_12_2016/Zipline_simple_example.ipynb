{
 "cells": [
  {
   "cell_type": "markdown",
   "metadata": {},
   "source": [
    "# Simple Example that implement a basic moving-average crossover strategy with AAPL stock\n",
    "### Buy AAPL if 50-day moving-average cross above 200-day moving-average"
   ]
  },
  {
   "cell_type": "code",
   "execution_count": 1,
   "metadata": {
    "collapsed": false
   },
   "outputs": [
    {
     "name": "stdout",
     "output_type": "stream",
     "text": [
      "Populating the interactive namespace from numpy and matplotlib\n"
     ]
    }
   ],
   "source": [
    "%pylab inline --no-import-all"
   ]
  },
  {
   "cell_type": "code",
   "execution_count": 14,
   "metadata": {
    "collapsed": false
   },
   "outputs": [
    {
     "name": "stdout",
     "output_type": "stream",
     "text": [
      "SPY\n"
     ]
    }
   ],
   "source": [
    "import pytz\n",
    "from datetime import datetime\n",
    "\n",
    "from zipline.algorithm import TradingAlgorithm\n",
    "from zipline.utils.factory import load_bars_from_yahoo\n",
    "\n",
    "# Load data manually from Yahoo! finance\n",
    "start = datetime(2000, 1, 1, 0, 0, 0, 0, pytz.utc)\n",
    "end = datetime(2016, 5, 4, 0, 0, 0, 0, pytz.utc)\n",
    "\n",
    "data = load_bars_from_yahoo(stocks=['SPY'], start=start,\n",
    "                            end=end)"
   ]
  },
  {
   "cell_type": "code",
   "execution_count": 15,
   "metadata": {
    "collapsed": true
   },
   "outputs": [],
   "source": [
    "from zipline.api import order_target_percent, record, symbol, history, add_history\n",
    "import numpy as np\n",
    "\n",
    "def initialize(context):\n",
    "    # Register 2 histories that track daily prices,\n",
    "    # one with a 100 window and one with a 300 day window\n",
    "    add_history(50, '1d', 'price')\n",
    "    add_history(200, '1d', 'price')\n",
    "\n",
    "    context.trade_count = 0\n",
    "    \n",
    "    context.i = 0\n",
    "\n",
    "def handle_data(context, data):\n",
    "    # Skip first 300 days to get full windows of data before running any trading logic\n",
    "    context.i += 1\n",
    "    if context.i < 300:\n",
    "        return\n",
    "\n",
    "    # Compute moving-averages below\n",
    "    # history() has to be called with the same params as used above in the initialize method 'add_history' calls\n",
    "    # history() returns a pandas dataframe.\n",
    "    \n",
    "    short_mavg = history(50, '1d', 'price').mean()\n",
    "    long_mavg = history(200, '1d', 'price').mean()\n",
    "\n",
    "    # Trading logic\n",
    "    if short_mavg[0] > long_mavg[0]:\n",
    "        # only enter this trade if you are not already in a previous trade\n",
    "        if len(context.portfolio.positions) < 1:\n",
    "            context.trade_count += 1\n",
    "            print \"Trade: \" + str(context.trade_count)\n",
    "            # order_target_percent orders as many shares as needed to invest X% of your account value.\n",
    "            order_target_percent(symbol('SPY'), 1.0)\n",
    "    elif short_mavg[0] < long_mavg[0]:\n",
    "        order_target_percent(symbol('SPY'), 0)\n",
    "\n",
    "    # Save values for later inspection\n",
    "    record(AAPL_price=data[symbol('SPY')].price,\n",
    "           short_mavg=short_mavg[0],\n",
    "           long_mavg=long_mavg[0])"
   ]
  },
  {
   "cell_type": "code",
   "execution_count": 16,
   "metadata": {
    "collapsed": false
   },
   "outputs": [
    {
     "name": "stdout",
     "output_type": "stream",
     "text": [
      "Trade: 1\n",
      "Trade: 2\n",
      "Trade: 3\n",
      "Trade: 4\n",
      "Trade: 5\n",
      "Trade: 6\n",
      "Trade: 7\n",
      "Trade: 8\n",
      "Trade: 9\n"
     ]
    }
   ],
   "source": [
    "# Create algorithm object passing in initialize() and handle_data() functions\n",
    "algo_obj = TradingAlgorithm(initialize=initialize,\n",
    "                            handle_data=handle_data)\n",
    "\n",
    "# Run algorithm\n",
    "perf_manual = algo_obj.run(data)"
   ]
  },
  {
   "cell_type": "code",
   "execution_count": 17,
   "metadata": {
    "collapsed": false
   },
   "outputs": [
    {
     "data": {
      "text/plain": [
       "<matplotlib.text.Text at 0x10bdf6c10>"
      ]
     },
     "execution_count": 17,
     "metadata": {},
     "output_type": "execute_result"
    },
    {
     "data": {
      "image/png": "[encoded data removed]",
      "text/plain": [
       "<matplotlib.figure.Figure at 0x10b8e0590>"
      ]
     },
     "metadata": {},
     "output_type": "display_data"
    }
   ],
   "source": [
    "figsize(13,5)\n",
    "perf_manual.portfolio_value.plot()\n",
    "plt.ylabel(\"Portfolio Value\")"
   ]
  },
  {
   "cell_type": "code",
   "execution_count": 18,
   "metadata": {
    "collapsed": false
   },
   "outputs": [
    {
     "data": {
      "text/plain": [
       "<matplotlib.text.Text at 0x10b7df950>"
      ]
     },
     "execution_count": 18,
     "metadata": {},
     "output_type": "execute_result"
    },
    {
     "data": {
      "image/png": "[encoded data removed]",
      "text/plain": [
       "<matplotlib.figure.Figure at 0x109cc7b50>"
      ]
     },
     "metadata": {},
     "output_type": "display_data"
    }
   ],
   "source": [
    "figsize(13,2)\n",
    "# gross_leverage shows you how much of your portfolio was invested each day\n",
    "# in this case it goes between 0 and 1 depending on if we were holding AAPL in our algo\n",
    "\n",
    "perf_manual.gross_leverage.plot()\n",
    "plt.ylabel(\"Amount of Accout Invested\")"
   ]
  },
  {
   "cell_type": "code",
   "execution_count": null,
   "metadata": {
    "collapsed": true
   },
   "outputs": [],
   "source": []
  }
 ],
 "metadata": {
  "kernelspec": {
   "display_name": "Python 2",
   "language": "python",
   "name": "python2"
  },
  "language_info": {
   "codemirror_mode": {
    "name": "ipython",
    "version": 2
   },
   "file_extension": ".py",
   "mimetype": "text/x-python",
   "name": "python",
   "nbconvert_exporter": "python",
   "pygments_lexer": "ipython2",
   "version": "2.7.10"
  }
 },
 "nbformat": 4,
 "nbformat_minor": 0
}
